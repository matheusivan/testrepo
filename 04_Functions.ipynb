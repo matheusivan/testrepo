{
 "cells": [
  {
   "cell_type": "markdown",
   "metadata": {},
   "source": [
    "# Functions\n",
    "\n",
    "A function is a block of code which only runs when it is called. You can pass data, known as parameters, into a function. A function can return data as a result.\n",
    "\n",
    "In this section we will look at functions covering the following:\n",
    "* [Functions overview](#func-overview)\n",
    "    * [Default parameters](#default-parameters)\n",
    "    * [<mark>Exercises: Build your own functions</mark>](#ex-build-func)\n",
    "* [Bigger Functions](#bigger)\n",
    "    * [<mark>Exercise: Making new words</mark>](#ex-func-new-words)\n",
    "* [Using `lambda` functions](#lambda)\n",
    "    * [<mark>Exercises: Lambda functions</mark>](#ex-lambda)\n",
    "* [Why lambda functions are useful - examples](#lambdas-benefits)\n",
    "* [More functions practice questions](#more-practice)\n",
    "\n",
    "<a id = 'func-overview'></a>\n",
    "## Functions overview\n",
    "\n",
    "In Python a function is defined using the `def` keyword.\n",
    "\n",
    "Use a return statement if you want the function to **return a value**. "
   ]
  },
  {
   "cell_type": "markdown",
   "metadata": {},
   "source": [
    "![](images/function.png)\n",
    "<!-- source? -->"
   ]
  },
  {
   "cell_type": "code",
   "execution_count": null,
   "metadata": {
    "lines_to_next_cell": 2
   },
   "outputs": [],
   "source": [
    "# create a function that adds two numbers together and returns the result\n",
    "def add_two_numbers(a, b):\n",
    "    answer = a + b\n",
    "    return answer"
   ]
  },
  {
   "cell_type": "code",
   "execution_count": null,
   "metadata": {
    "lines_to_next_cell": 2
   },
   "outputs": [],
   "source": [
    "# test your function\n",
    "add_two_numbers(5, 7)"
   ]
  },
  {
   "cell_type": "markdown",
   "metadata": {},
   "source": [
    "Note that we don't HAVE to return anything from the function..."
   ]
  },
  {
   "cell_type": "code",
   "execution_count": null,
   "metadata": {
    "lines_to_next_cell": 2
   },
   "outputs": [],
   "source": [
    "# create a function that adds two numbers together and prints the result\n",
    "def print_add_two_numbers(a, b):\n",
    "    answer = a + b\n",
    "    print(answer)"
   ]
  },
  {
   "cell_type": "code",
   "execution_count": null,
   "metadata": {
    "lines_to_next_cell": 2
   },
   "outputs": [],
   "source": [
    "# test your function\n",
    "print_add_two_numbers(4, 5)"
   ]
  },
  {
   "cell_type": "markdown",
   "metadata": {},
   "source": [
    "if we \"return\" the answer we can store it for later use\n"
   ]
  },
  {
   "cell_type": "code",
   "execution_count": null,
   "metadata": {},
   "outputs": [],
   "source": [
    "result = add_two_numbers(5, 7)"
   ]
  },
  {
   "cell_type": "code",
   "execution_count": null,
   "metadata": {},
   "outputs": [],
   "source": [
    "result"
   ]
  },
  {
   "cell_type": "code",
   "execution_count": null,
   "metadata": {},
   "outputs": [],
   "source": [
    "result = print_add_two_numbers(4, 5)"
   ]
  },
  {
   "cell_type": "code",
   "execution_count": null,
   "metadata": {},
   "outputs": [],
   "source": [
    "result"
   ]
  },
  {
   "cell_type": "code",
   "execution_count": null,
   "metadata": {},
   "outputs": [],
   "source": [
    "# now you have a return: use your function to find out what the square of 13+4 is\n",
    "add_two_numbers(13, 4)**2"
   ]
  },
  {
   "cell_type": "code",
   "execution_count": null,
   "metadata": {},
   "outputs": [],
   "source": [
    "# The distinction between the above is really important - return allows us to actually use the result!\n",
    "print_add_two_numbers(13, 4)**2"
   ]
  },
  {
   "cell_type": "markdown",
   "metadata": {},
   "source": [
    "<a id = 'default-parameters'></a>\n",
    "## Default Parameter Value\n",
    "\n",
    "We can include a default parameter value which the function, if we it without argument, uses by default.\n",
    "\n",
    "This is shown in the below example - also note the inclusion of a docstring. A docstring is a string that occurs as the first statement in a function and give information about the function. This will then be shown if you call help() on the function."
   ]
  },
  {
   "cell_type": "code",
   "execution_count": null,
   "metadata": {
    "lines_to_next_cell": 2
   },
   "outputs": [],
   "source": [
    "def say_f1_winner(name = 'Lewis Hamilton'):\n",
    "    \"\"\"\n",
    "    Takes a name and prints a message saying \n",
    "    \"[that person] just won the race!\"\n",
    "    \n",
    "    name: str\n",
    "    \"\"\"\n",
    "    print(name, 'just won the race!')"
   ]
  },
  {
   "cell_type": "code",
   "execution_count": null,
   "metadata": {
    "lines_to_next_cell": 2
   },
   "outputs": [],
   "source": [
    "say_f1_winner()"
   ]
  },
  {
   "cell_type": "code",
   "execution_count": null,
   "metadata": {
    "lines_to_next_cell": 2
   },
   "outputs": [],
   "source": [
    "say_f1_winner(\"Max Verstappen\")"
   ]
  },
  {
   "cell_type": "code",
   "execution_count": null,
   "metadata": {},
   "outputs": [],
   "source": [
    "help(say_f1_winner)"
   ]
  },
  {
   "cell_type": "code",
   "execution_count": null,
   "metadata": {},
   "outputs": [],
   "source": [
    "#calling help on some of the functions we've seen previously\n",
    "help(print)"
   ]
  },
  {
   "cell_type": "code",
   "execution_count": null,
   "metadata": {},
   "outputs": [],
   "source": [
    "help(len)"
   ]
  },
  {
   "cell_type": "markdown",
   "metadata": {},
   "source": [
    "You can also access the docs/help by adding a `?` in front of any\n",
    "function in Python. You can dismiss the helper that will pop-up at the \n",
    "bottom by pressing `q`."
   ]
  },
  {
   "cell_type": "code",
   "execution_count": null,
   "metadata": {},
   "outputs": [],
   "source": [
    "?say_f1_winner"
   ]
  },
  {
   "cell_type": "markdown",
   "metadata": {},
   "source": [
    "Alternatively, we can see this by writing the function and hitting shift+TAB:"
   ]
  },
  {
   "cell_type": "code",
   "execution_count": null,
   "metadata": {},
   "outputs": [],
   "source": [
    "say_f1_winner"
   ]
  },
  {
   "cell_type": "markdown",
   "metadata": {},
   "source": [
    "We've actually already seen default parameter values! Remember the `split()` method?"
   ]
  },
  {
   "cell_type": "code",
   "execution_count": null,
   "metadata": {},
   "outputs": [],
   "source": [
    "sentence = 'Hello. I can specify a different parameter value. Cool, huh? What do you think is the default parameter?'\n",
    "\n",
    "sentence.split()"
   ]
  },
  {
   "cell_type": "code",
   "execution_count": null,
   "metadata": {},
   "outputs": [],
   "source": [
    "sentence.split(sep=\".\")"
   ]
  },
  {
   "cell_type": "markdown",
   "metadata": {},
   "source": [
    "<a id = 'ex-build-func'></a>\n",
    "## <mark>Exercises: Build your own functions</mark>\n",
    "\n",
    "Build functions that do the following:\n",
    "\n",
    "1. Multiplies three numbers together"
   ]
  },
  {
   "cell_type": "code",
   "execution_count": null,
   "metadata": {},
   "outputs": [],
   "source": []
  },
  {
   "cell_type": "markdown",
   "metadata": {},
   "source": [
    "2. Returns the square of a number"
   ]
  },
  {
   "cell_type": "code",
   "execution_count": null,
   "metadata": {},
   "outputs": [],
   "source": []
  },
  {
   "cell_type": "markdown",
   "metadata": {},
   "source": [
    "\n",
    "3. Returns a string depending on a name parameter:\n",
    "```python\n",
    "    \"Hello, [NAME]!\"\n",
    "```    \n",
    "Extra: use a default parameter of `[YOUR_NAME]` so that it outputs \"Hello, World!\""
   ]
  },
  {
   "cell_type": "code",
   "execution_count": null,
   "metadata": {},
   "outputs": [],
   "source": []
  },
  {
   "cell_type": "markdown",
   "metadata": {},
   "source": [
    "4. Create a function that checks whether a number is an even number and prints the result"
   ]
  },
  {
   "cell_type": "code",
   "execution_count": null,
   "metadata": {},
   "outputs": [],
   "source": []
  },
  {
   "cell_type": "markdown",
   "metadata": {},
   "source": [
    "5. *Challenge: Making new words*\n",
    "\n",
    "Write a function that takes a sentence (string) and combines the first letters of each word into a new word. Add a meaningful docstring to this function."
   ]
  },
  {
   "cell_type": "code",
   "execution_count": null,
   "metadata": {},
   "outputs": [],
   "source": []
  },
  {
   "cell_type": "markdown",
   "metadata": {},
   "source": [
    "**Answers**"
   ]
  },
  {
   "cell_type": "code",
   "execution_count": null,
   "metadata": {},
   "outputs": [],
   "source": [
    "# %load answers/ex-build-func-1.py"
   ]
  },
  {
   "cell_type": "code",
   "execution_count": null,
   "metadata": {},
   "outputs": [],
   "source": [
    "# %load answers/ex-build-func-2.py"
   ]
  },
  {
   "cell_type": "code",
   "execution_count": null,
   "metadata": {},
   "outputs": [],
   "source": [
    "# %load answers/ex-build-func-3.py"
   ]
  },
  {
   "cell_type": "code",
   "execution_count": null,
   "metadata": {},
   "outputs": [],
   "source": [
    "# %load answers/ex-build-func-4.py"
   ]
  },
  {
   "cell_type": "code",
   "execution_count": null,
   "metadata": {},
   "outputs": [],
   "source": [
    "# %load answers/ex-build-func-5.py"
   ]
  },
  {
   "cell_type": "markdown",
   "metadata": {},
   "source": [
    "<a id ='bigger'></a>\n",
    "## Bigger functions\n",
    "\n",
    "Let's make a function that returns a chosen amount of words that begin with a capital letter from a string"
   ]
  },
  {
   "cell_type": "code",
   "execution_count": null,
   "metadata": {},
   "outputs": [],
   "source": [
    "def find_capitalized_words(text, n = 1):\n",
    "    \n",
    "    \"\"\"\n",
    "    return a list of words that begin with \n",
    "    a captial letter from an input string.\n",
    "    \n",
    "    text : str\n",
    "    \"\"\"\n",
    "        \n",
    "    # create empty answer list to append words to\n",
    "    answer = []\n",
    "    # split text into a list of words to allow us to loop through each word\n",
    "    list_text = text.split()\n",
    "\n",
    "    # loop through each word and check starting letter\n",
    "    for word in list_text:\n",
    "        if word[0].isupper():\n",
    "            answer.append(word)\n",
    "\n",
    "    # return the answer\n",
    "    return answer[:n]"
   ]
  },
  {
   "cell_type": "markdown",
   "metadata": {},
   "source": [
    "|Syntax                  |Definition        |\n",
    "|:-----------------------|:-----------------|\n",
    "|`def`                   |Define a function |\n",
    "|`find_capitalized_words`| Function name    |\n",
    "|`(text)`                | Signature        |\n",
    "|`text`<br><br> - `text` <br> - `n=1` | Argument(s)<br><br>- Positional argument<br>- Default argument (with default `1`)|\n",
    "|`return ...`            | Return statement |"
   ]
  },
  {
   "cell_type": "code",
   "execution_count": null,
   "metadata": {
    "lines_to_next_cell": 2
   },
   "outputs": [],
   "source": [
    "capt_ahab = \"My name is Captain Ahab and I am obssesed with finding the whale who bit of my leg: Moby Dick\""
   ]
  },
  {
   "cell_type": "code",
   "execution_count": null,
   "metadata": {},
   "outputs": [],
   "source": [
    "find_capitalized_words(capt_ahab, n = 5)"
   ]
  },
  {
   "cell_type": "markdown",
   "metadata": {},
   "source": [
    "<a id = 'lambda'></a>\n",
    "## Using lambda functions\n",
    "\n",
    "A lambda function is a small anonymous function.\n",
    "\n",
    "A lambda function can take any number of arguments, but can only have one expression.\n",
    "\n",
    "![](images/lambda.png)\n",
    "<!-- source? -->"
   ]
  },
  {
   "cell_type": "code",
   "execution_count": null,
   "metadata": {
    "lines_to_next_cell": 2
   },
   "outputs": [],
   "source": [
    "# take a number and add 4\n",
    "\n",
    "add_4 = lambda x: x + 4"
   ]
  },
  {
   "cell_type": "code",
   "execution_count": null,
   "metadata": {
    "lines_to_next_cell": 2
   },
   "outputs": [],
   "source": [
    "add_4(17)"
   ]
  },
  {
   "cell_type": "code",
   "execution_count": null,
   "metadata": {
    "lines_to_next_cell": 2
   },
   "outputs": [],
   "source": [
    "# cube a number\n",
    "\n",
    "cube_number = lambda x: x**3"
   ]
  },
  {
   "cell_type": "code",
   "execution_count": null,
   "metadata": {
    "lines_to_next_cell": 2
   },
   "outputs": [],
   "source": [
    "cube_number(4)"
   ]
  },
  {
   "cell_type": "code",
   "execution_count": null,
   "metadata": {
    "lines_to_next_cell": 2
   },
   "outputs": [],
   "source": [
    "# raise one number to the power of another\n",
    "\n",
    "to_power = lambda x, y: x**y"
   ]
  },
  {
   "cell_type": "code",
   "execution_count": null,
   "metadata": {},
   "outputs": [],
   "source": [
    "to_power(5, 4)"
   ]
  },
  {
   "cell_type": "markdown",
   "metadata": {},
   "source": [
    "<a id = 'ex-lambda'></a>\n",
    "## <mark>Exercise: Lambda challenge</mark>\n",
    "\n",
    "Create a lambda function that adds two numbers together, then multiplies by a third"
   ]
  },
  {
   "cell_type": "code",
   "execution_count": null,
   "metadata": {},
   "outputs": [],
   "source": []
  },
  {
   "cell_type": "markdown",
   "metadata": {},
   "source": [
    "<a id='lambdas-benefits'></a>\n",
    "## Why lambda functions are useful\n",
    "\n",
    "Python lets you create a function on the go, but without really assigning a name to the function. These “anonymous” functions are called “Lambda Functions”. \n",
    "\n",
    "**The benefit of the \"anonymous\" lambda function is easily visible when used within a python functions like** `sorted()`:"
   ]
  },
  {
   "cell_type": "code",
   "execution_count": null,
   "metadata": {
    "lines_to_next_cell": 2
   },
   "outputs": [],
   "source": [
    "food = ['strawberry', 'mango', 'apple', 'banana']"
   ]
  },
  {
   "cell_type": "code",
   "execution_count": null,
   "metadata": {},
   "outputs": [],
   "source": [
    "sorted(food)"
   ]
  },
  {
   "cell_type": "markdown",
   "metadata": {},
   "source": [
    "**But what is we had a list of tuples - how will `sorted()` behave now?**"
   ]
  },
  {
   "cell_type": "code",
   "execution_count": null,
   "metadata": {
    "lines_to_next_cell": 2
   },
   "outputs": [],
   "source": [
    "food_to_buy = [(30, 'strawberry'), (4, 'mango'), (7, 'apple'), (2, 'banana')]"
   ]
  },
  {
   "cell_type": "code",
   "execution_count": null,
   "metadata": {},
   "outputs": [],
   "source": [
    "sorted(food_to_buy)"
   ]
  },
  {
   "cell_type": "markdown",
   "metadata": {},
   "source": [
    "**How can we sort by the second item in each tuple? We can use the `key=` parameter with a lambda function!**"
   ]
  },
  {
   "cell_type": "code",
   "execution_count": null,
   "metadata": {},
   "outputs": [],
   "source": [
    "sorted(food_to_buy, key = lambda x: x[1] )"
   ]
  },
  {
   "cell_type": "markdown",
   "metadata": {},
   "source": [
    "**You can also use lambda functions within functions you have written yourself. These easy one liners give us a fair bit of power in Python.**"
   ]
  },
  {
   "cell_type": "code",
   "execution_count": null,
   "metadata": {},
   "outputs": [],
   "source": [
    "def func_builder(n):\n",
    "    \n",
    "    return lambda x: x ** n"
   ]
  },
  {
   "cell_type": "markdown",
   "metadata": {},
   "source": [
    "**What use is this? Well now we can create functions that will find a certain power, and then we can use different numbers in that very function...**"
   ]
  },
  {
   "cell_type": "code",
   "execution_count": null,
   "metadata": {
    "lines_to_next_cell": 2
   },
   "outputs": [],
   "source": [
    "squarer = func_builder(2)\n",
    "print(\n",
    "    squarer(1),\n",
    "    squarer(2),\n",
    "    squarer(3),\n",
    "    squarer(4)\n",
    ")"
   ]
  },
  {
   "cell_type": "code",
   "execution_count": null,
   "metadata": {},
   "outputs": [],
   "source": [
    "cuber = func_builder(2)\n",
    "for x in range(1,11):\n",
    "    print(cuber(x))"
   ]
  },
  {
   "cell_type": "markdown",
   "metadata": {},
   "source": [
    "<a id='more-practice'></a>\n",
    "## Want more functions practice?\n",
    "\n",
    "Try these websites\n",
    "\n",
    "https://www.w3resource.com/python-exercises/python-functions-exercises.php\n",
    "\n",
    "https://pynative.com/python-functions-exercise-with-solutions/\n",
    "\n"
   ]
  }
 ],
 "metadata": {
  "kernelspec": {
   "display_name": "Python 3",
   "language": "python",
   "name": "python3"
  },
  "language_info": {
   "codemirror_mode": {
    "name": "ipython",
    "version": 3
   },
   "file_extension": ".py",
   "mimetype": "text/x-python",
   "name": "python",
   "nbconvert_exporter": "python",
   "pygments_lexer": "ipython3",
   "version": "3.8.5"
  }
 },
 "nbformat": 4,
 "nbformat_minor": 4
}
