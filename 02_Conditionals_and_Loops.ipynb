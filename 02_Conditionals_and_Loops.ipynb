{
 "cells": [
  {
   "cell_type": "markdown",
   "metadata": {},
   "source": [
    "# Conditionals and For Loops\n",
    "\n",
    "In this section we will look at how you can use conditionals and loops to make life a little easier when executing code.\n",
    "\n",
    "We will cover:\n",
    "* [Conditionals](#conditionals)\n",
    "    * [`if` and `else`](#if-else)\n",
    "    * [`if`, `elif` and `else`](#if-elif-else)\n",
    "    * [<mark>Exercise: FizzBuzz: `if`, `elif`, and `else`</mark>](#ex-fizzbuzz)\n",
    "* [Loops](#loops)\n",
    "    * [Using `for loop` to loop through strings](#for)\n",
    "    * [`while` loops](#while)\n",
    "    * [<mark>Exercise: Checking string elements</mark>](#ex-cond-for)\n",
    "    * [More for loops: iterating through a range](#more-loops)\n",
    "    * [<mark>Exercise: Square numbers using a for loop</mark>](#ex-loop)\n",
    "    * [Using `break` and `continue` within a loop](#break-continue)\n",
    "    * [While loops](#while)\n",
    "    * [<mark>Exercise: Square numbers using a while</mark>](#ex-while)"
   ]
  },
  {
   "cell_type": "markdown",
   "metadata": {},
   "source": [
    "<a id = 'conditionals'></a>\n",
    "## Conditionals\n",
    "\n",
    "Python supports the usual logical conditions from mathematics:\n",
    "\n",
    "* Equals: `a == b`\n",
    "* Not Equals: `a != b`\n",
    "* Less than: `a < b`\n",
    "* Less than or equal to: `a <= b`\n",
    "* Greater than: `a > b`\n",
    "* Greater than or equal to: `a >= b`\n",
    "\n",
    "These conditions can be used in several ways, most commonly in \"if statements\" and loops."
   ]
  },
  {
   "cell_type": "markdown",
   "metadata": {},
   "source": [
    "<a id ='if-else'></a>\n",
    "## `if` and `else` statements\n",
    "\n",
    "`if` and `else` are conditional statements that provide you with the decision making that is required when you want to execute code based on a particular condition.\n",
    "\n",
    "Python uses the colon symbol (:) and indentation for showing where blocks of code begin and end"
   ]
  },
  {
   "cell_type": "markdown",
   "metadata": {},
   "source": [
    "![](images/if_else.png)\n",
    "<!-- <sub>Source: Style guide for Python</sub> -->"
   ]
  },
  {
   "cell_type": "markdown",
   "metadata": {},
   "source": [
    "Below we have a variable setting the temparature to 26 (celsius).\n",
    "\n",
    "What kind of if-else statement could we write when considering the temparature?"
   ]
  },
  {
   "cell_type": "code",
   "execution_count": null,
   "metadata": {
    "lines_to_next_cell": 2
   },
   "outputs": [],
   "source": [
    "temp = 26"
   ]
  },
  {
   "cell_type": "code",
   "execution_count": null,
   "metadata": {},
   "outputs": [],
   "source": [
    "if temp > 25:\n",
    "    print(\"Boy, it's warm today!\")\n",
    "else:\n",
    "    print(\"It's rather cold today!\")"
   ]
  },
  {
   "cell_type": "markdown",
   "metadata": {},
   "source": [
    "How about if we add the following variable to state whether it's rainy or not?"
   ]
  },
  {
   "cell_type": "code",
   "execution_count": null,
   "metadata": {
    "lines_to_next_cell": 2
   },
   "outputs": [],
   "source": [
    "rainy = True\n",
    "temp = 26"
   ]
  },
  {
   "cell_type": "code",
   "execution_count": null,
   "metadata": {},
   "outputs": [],
   "source": [
    "if temp > 25:\n",
    "    if rainy:\n",
    "        print(\"It's hot! But raining...?\")\n",
    "    else:\n",
    "        print(\"It's hot! And not a raindrop in sight!\")\n",
    "else:\n",
    "    if rainy:\n",
    "        print(\"Just stay home...\")\n",
    "    else:\n",
    "        print(\"It's cold, but at least it ain't raining!\")"
   ]
  },
  {
   "cell_type": "markdown",
   "metadata": {},
   "source": [
    "<a id ='if-elif-else'></a>\n",
    "## Using `elif`\n",
    "\n",
    "Python uses the colon symbol (:) and indentation for showing where blocks of code begin and end"
   ]
  },
  {
   "cell_type": "markdown",
   "metadata": {},
   "source": [
    "![](images/if_elif_else.png)\n",
    "<!-- <sub>Source: ?</sub> -->"
   ]
  },
  {
   "cell_type": "markdown",
   "metadata": {},
   "source": [
    "**Example**: Adding an `elif` before the `else`"
   ]
  },
  {
   "cell_type": "code",
   "execution_count": null,
   "metadata": {
    "lines_to_next_cell": 2
   },
   "outputs": [],
   "source": [
    "temp = 26"
   ]
  },
  {
   "cell_type": "code",
   "execution_count": null,
   "metadata": {},
   "outputs": [],
   "source": [
    "if temp > 25:\n",
    "    print(\"I love it when it's hot\")\n",
    "elif temp > 0:\n",
    "    print(\"Well it's not hot... but it's not freezing either!\")\n",
    "else:\n",
    "    print(\"Brrrr! Too cold!\")"
   ]
  },
  {
   "cell_type": "markdown",
   "metadata": {},
   "source": [
    "<a id='ex-fizzbuzz'></a>\n",
    "## <mark>Exercise: FizzBuzz: `if`, `elif`, and `else`</mark>\n",
    "\n",
    "Write an if, elif, else statement to check if the number `num` is divisible by 2 or 5.\n",
    "\n",
    "If `num` is divisible by 2 print \"Fizz\", if not divisible by 2 but divisible by 5 print \"Buzz\", and if it's not divisible by either it should print \"No Fizz or Buzz\"\n",
    "\n",
    "*Hint: Remember the modulus operator %?*\n",
    "\n",
    "*Extra: If divisible by 2 print “Fizz” and if divisible by 5 print “Buzz”. For numbers which are multiples of both two and five then print “FizzBuzz”.*"
   ]
  },
  {
   "cell_type": "code",
   "execution_count": null,
   "metadata": {
    "lines_to_next_cell": 2
   },
   "outputs": [],
   "source": [
    "num = 7"
   ]
  },
  {
   "cell_type": "code",
   "execution_count": null,
   "metadata": {},
   "outputs": [],
   "source": [
    "# %load answers/ex-fizzbuzz.py"
   ]
  },
  {
   "cell_type": "markdown",
   "metadata": {},
   "source": [
    "<a id ='loops'></a>\n",
    "## Loops\n",
    "\n",
    "A for loop is used for iterating over a sequence (that is either a list, a tuple, a dictionary, a set, or a string).\n",
    "\n",
    "\n",
    "![](images/for.png)\n",
    "<!-- <sub>Source: ?</sub> -->"
   ]
  },
  {
   "cell_type": "markdown",
   "metadata": {},
   "source": [
    "<a id='for'></a>\n",
    "       \n",
    "## Using `for loop` to loop through strings\n",
    "\n",
    "We can loop through each character in a string"
   ]
  },
  {
   "cell_type": "code",
   "execution_count": null,
   "metadata": {},
   "outputs": [],
   "source": [
    "for char in 'goodbye world':\n",
    "    print(char)"
   ]
  },
  {
   "cell_type": "markdown",
   "metadata": {},
   "source": [
    "We can do more than just print in our statement line... What is `count_chars` up to?"
   ]
  },
  {
   "cell_type": "code",
   "execution_count": null,
   "metadata": {
    "lines_to_next_cell": 2
   },
   "outputs": [],
   "source": [
    "count_chars = 0\n",
    "\n",
    "for char in 'hello world':\n",
    "    count_chars += 1\n",
    "    print(count_chars)"
   ]
  },
  {
   "cell_type": "code",
   "execution_count": null,
   "metadata": {},
   "outputs": [],
   "source": [
    "count_chars"
   ]
  },
  {
   "cell_type": "markdown",
   "metadata": {},
   "source": [
    "`count_chars` is adding one on each loop. After the loop finishes it will be equal to the number of characters in the string! \n",
    "\n",
    "**Example**: How about adding an if statement in there as well?"
   ]
  },
  {
   "cell_type": "code",
   "execution_count": null,
   "metadata": {},
   "outputs": [],
   "source": [
    "long_string = 'hello there. Nice day today. my name is James.'\n",
    "\n",
    "for char in long_string:\n",
    "    \n",
    "    if char == 'a':\n",
    "        print(char)"
   ]
  },
  {
   "cell_type": "markdown",
   "metadata": {},
   "source": [
    "**Example**: Print all constants in lower case and all vowels as capitals"
   ]
  },
  {
   "cell_type": "code",
   "execution_count": null,
   "metadata": {},
   "outputs": [],
   "source": [
    "for char in 'we are really loving for loops':\n",
    "    \n",
    "    if char. in 'aeiou':\n",
    "        print(char.upper())\n",
    "    else:\n",
    "        print(char.lower())"
   ]
  },
  {
   "cell_type": "markdown",
   "metadata": {},
   "source": [
    "<a id ='ex-cond-for'></a>\n",
    "### <mark>Exercise: Checking string elements</mark>\n",
    "\n",
    "Write Python code that goes through each letter of a given string and counts how many vowels are in it.\n",
    "\n",
    "*Hint:* use a `for loop` and the `+=` operator"
   ]
  },
  {
   "cell_type": "code",
   "execution_count": null,
   "metadata": {
    "lines_to_next_cell": 2
   },
   "outputs": [],
   "source": [
    "random_string = \"python is not a snake\"\n",
    "\n",
    "vowels = 'aeuio'"
   ]
  },
  {
   "cell_type": "code",
   "execution_count": null,
   "metadata": {
    "lines_to_next_cell": 2
   },
   "outputs": [],
   "source": []
  },
  {
   "cell_type": "code",
   "execution_count": null,
   "metadata": {},
   "outputs": [],
   "source": [
    "# %load answers/ex-cond-for.py"
   ]
  },
  {
   "cell_type": "markdown",
   "metadata": {},
   "source": [
    "<a id='more-loops'></a>\n",
    "## More for loops: Iterating through a range\n",
    "\n",
    "The `range()` function returns a sequence of numbers, starting from 0 by default, and increments by 1 (by default), and stops before a specified number.\n",
    "\n",
    "Here we create a sequence of numbers from 0 to 5, and print each item in the sequence:"
   ]
  },
  {
   "cell_type": "code",
   "execution_count": null,
   "metadata": {},
   "outputs": [],
   "source": [
    "for num in range(6):\n",
    "    print(num)"
   ]
  },
  {
   "cell_type": "markdown",
   "metadata": {},
   "source": [
    "Note how the range function starts from **0** and **stops before the specified number**. \n",
    "\n",
    "The syntax for the range() function is:\n",
    "\n",
    "    range(start, stop, increment)\n",
    "\n",
    "You can specify at which position you'd like to start, and you can set the increments.\n",
    "\n",
    "**Using the** `range()` **function, return all the even numbers from *4 up to and including 12***"
   ]
  },
  {
   "cell_type": "code",
   "execution_count": null,
   "metadata": {
    "lines_to_next_cell": 2
   },
   "outputs": [],
   "source": [
    "for i in range(4, 14, 2):\n",
    "    print(i)"
   ]
  },
  {
   "cell_type": "code",
   "execution_count": null,
   "metadata": {
    "lines_to_next_cell": 2
   },
   "outputs": [],
   "source": [
    "for i in range(2, 7):\n",
    "    print(i*2)"
   ]
  },
  {
   "cell_type": "code",
   "execution_count": null,
   "metadata": {},
   "outputs": [],
   "source": [
    "for i in range(4, 13, 2):\n",
    "    print(i)"
   ]
  },
  {
   "cell_type": "markdown",
   "metadata": {},
   "source": [
    "<a id='ex-for-loop'></a>\n",
    "## <mark>Exercise: Square numbers using a for loop</mark>\n",
    "Complete the following exercise. Too easy? Try the challenge below!\n",
    "1. Use the range() function to print all the square numbers from 1 to 100"
   ]
  },
  {
   "cell_type": "code",
   "execution_count": null,
   "metadata": {
    "lines_to_next_cell": 2
   },
   "outputs": [],
   "source": []
  },
  {
   "cell_type": "markdown",
   "metadata": {},
   "source": [
    "<a id='ex-for-loop-challenge'></a>\n",
    "**Challenge**: Using a `for loop` print the following pattern:\n",
    "```\n",
    "1\n",
    "12\n",
    "123\n",
    "1234\n",
    "12345\n",
    "```"
   ]
  },
  {
   "cell_type": "code",
   "execution_count": null,
   "metadata": {
    "lines_to_next_cell": 2
   },
   "outputs": [],
   "source": []
  },
  {
   "cell_type": "code",
   "execution_count": null,
   "metadata": {},
   "outputs": [],
   "source": [
    "# %load answers/ex-for-loop.py"
   ]
  }
 ],
 "metadata": {
  "kernelspec": {
   "display_name": "Python 3",
   "language": "python",
   "name": "python3"
  },
  "language_info": {
   "codemirror_mode": {
    "name": "ipython",
    "version": 3
   },
   "file_extension": ".py",
   "mimetype": "text/x-python",
   "name": "python",
   "nbconvert_exporter": "python",
   "pygments_lexer": "ipython3",
   "version": "3.8.5"
  }
 },
 "nbformat": 4,
 "nbformat_minor": 4
}
