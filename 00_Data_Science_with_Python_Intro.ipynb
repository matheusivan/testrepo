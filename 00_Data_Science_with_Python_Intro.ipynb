{
 "cells": [
  {
   "cell_type": "markdown",
   "metadata": {},
   "source": [
    "# Data Science with Python Course Introduction"
   ]
  },
  {
   "cell_type": "markdown",
   "metadata": {},
   "source": [
    "During this course we will program in Python, using **Jupyter notebooks** from Anaconda. \n",
    "\n",
    "\n",
    "## Jupyter notebook\n",
    "\n",
    "- Jupyter notebook allows for programming in the browser. \n",
    "- Code, text and output are displayed \"in-line\", therefore great for telling a story.\n",
    "- Very popular amongst data scientists.\n"
   ]
  },
  {
   "cell_type": "code",
   "execution_count": null,
   "metadata": {},
   "outputs": [],
   "source": []
  },
  {
   "cell_type": "markdown",
   "metadata": {},
   "source": [
    "# Notebook shortcuts\n",
    "All necessary commands have corresponding buttons at the top of the screen.\n",
    "As you become more familiar with using Jupyter Notebook, you'll become more\n",
    "efficient by using hotkeys instead. A list of some useful ones (use ⌘ or \n",
    "`command` instead of `ctrl` on a *Mac*):\n",
    "\n",
    "- `ctrl  + enter` : run cell\n",
    "- `shift + enter` : run cell and create / select the one after\n",
    "- `esc`           : enter command mode\n",
    "- `ctrl  + s`     : save notebook\n",
    "\n",
    "Command mode — introduced above — is opposite to Insert mode. \n",
    "In Insert mode you can input your code or text. In Command mode — as the \n",
    "name implies, you can execute commands that mostly influence the notebook:\n",
    "\n",
    "- `↑`/`↓` : browser through different cells\n",
    "- `y`     : changes cell to a code cell\n",
    "- `m`     : changes cell to a [markdown](https://en.wikipedia.org/wiki/Markdown) cell\n",
    "- `a`     : create new cell above\n",
    "- `b`     : create new cell below\n",
    "- `l`     : toggle line numbers\n",
    "- `dd`    : delete cell\n",
    "- `h`     : show all keyboard shortcuts"
   ]
  },
  {
   "cell_type": "code",
   "execution_count": null,
   "metadata": {},
   "outputs": [],
   "source": []
  },
  {
   "cell_type": "markdown",
   "metadata": {},
   "source": [
    "# Why Python?"
   ]
  },
  {
   "cell_type": "markdown",
   "metadata": {},
   "source": [
    "1. Simplicity - This is a high-level programming\n",
    "2. Libraries and Frameworks\n",
    "    - NumPy\n",
    "    - SciPy\n",
    "    - Pandas\n",
    "    - Sklearn\n",
    "    - PyTorch/TensorFlow\n",
    "3. Free and open source\n",
    "4. Fastest growing programming language\n",
    "4. It has an enormous community"
   ]
  },
  {
   "cell_type": "markdown",
   "metadata": {},
   "source": [
    "# Best Practices\n",
    "\n",
    "We will be covering Python best practices as we go through. Ultimately our philosophy should follow that of Tim Peters:"
   ]
  },
  {
   "cell_type": "code",
   "execution_count": null,
   "metadata": {},
   "outputs": [],
   "source": [
    "import this"
   ]
  }
 ],
 "metadata": {
  "kernelspec": {
   "display_name": "Python 3",
   "language": "python",
   "name": "python3"
  },
  "language_info": {
   "codemirror_mode": {
    "name": "ipython",
    "version": 3
   },
   "file_extension": ".py",
   "mimetype": "text/x-python",
   "name": "python",
   "nbconvert_exporter": "python",
   "pygments_lexer": "ipython3",
   "version": "3.8.3"
  }
 },
 "nbformat": 4,
 "nbformat_minor": 4
}
